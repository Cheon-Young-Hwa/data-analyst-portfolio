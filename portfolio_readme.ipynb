{
 "cells": [
  {
   "cell_type": "markdown",
   "id": "d20865aa",
   "metadata": {},
   "source": [
    "# < Project Summary >\n",
    "\n",
    "\n",
    "## 1. Bike Sharing Demand: Forecast Use of City Bikeshare System\n",
    "\n",
    "- Link: 1.bike_sharing_demand_prediction/biking_sharing_demand_ENG.ipynb\n",
    "\n",
    "\n",
    "## 2. Mobile Game Cookie Cats with A/B Testing: To Move First Gate from level 30 to 40?\n",
    "\n",
    "- Link: 2.A:B_testing_mobile_game/ab_tesing_mobile_game_ENG.ipynb\n",
    "\n",
    "## 3. \n",
    "- Link: \n"
   ]
  }
 ],
 "metadata": {
  "kernelspec": {
   "display_name": "Python 3 (ipykernel)",
   "language": "python",
   "name": "python3"
  },
  "language_info": {
   "codemirror_mode": {
    "name": "ipython",
    "version": 3
   },
   "file_extension": ".py",
   "mimetype": "text/x-python",
   "name": "python",
   "nbconvert_exporter": "python",
   "pygments_lexer": "ipython3",
   "version": "3.9.13"
  }
 },
 "nbformat": 4,
 "nbformat_minor": 5
}
